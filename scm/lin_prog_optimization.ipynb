{
 "cells": [
  {
   "cell_type": "code",
   "execution_count": 119,
   "metadata": {},
   "outputs": [],
   "source": [
    "import sys\n",
    "sys.path.append('D:/source/repos')\n",
    "from utilities.std_imports import *\n",
    "pd.set_option('display.max_columns', None)\n",
    "from itertools import accumulate\n",
    "from scipy.optimize import linprog"
   ]
  },
  {
   "cell_type": "code",
   "execution_count": 120,
   "metadata": {},
   "outputs": [
    {
     "data": {
      "text/html": [
       "<div>\n",
       "<style scoped>\n",
       "    .dataframe tbody tr th:only-of-type {\n",
       "        vertical-align: middle;\n",
       "    }\n",
       "\n",
       "    .dataframe tbody tr th {\n",
       "        vertical-align: top;\n",
       "    }\n",
       "\n",
       "    .dataframe thead th {\n",
       "        text-align: right;\n",
       "    }\n",
       "</style>\n",
       "<table border=\"1\" class=\"dataframe\">\n",
       "  <thead>\n",
       "    <tr style=\"text-align: right;\">\n",
       "      <th></th>\n",
       "      <th>0</th>\n",
       "      <th>1</th>\n",
       "      <th>2</th>\n",
       "      <th>3</th>\n",
       "      <th>4</th>\n",
       "      <th>5</th>\n",
       "    </tr>\n",
       "  </thead>\n",
       "  <tbody>\n",
       "    <tr>\n",
       "      <th>Dmd</th>\n",
       "      <td>0</td>\n",
       "      <td>130</td>\n",
       "      <td>160</td>\n",
       "      <td>120</td>\n",
       "      <td>260</td>\n",
       "      <td>130</td>\n",
       "    </tr>\n",
       "    <tr>\n",
       "      <th>Pl.Or</th>\n",
       "      <td>0</td>\n",
       "      <td>60</td>\n",
       "      <td>80</td>\n",
       "      <td>0</td>\n",
       "      <td>100</td>\n",
       "      <td>0</td>\n",
       "    </tr>\n",
       "    <tr>\n",
       "      <th>Stock</th>\n",
       "      <td>370</td>\n",
       "      <td>0</td>\n",
       "      <td>0</td>\n",
       "      <td>0</td>\n",
       "      <td>0</td>\n",
       "      <td>0</td>\n",
       "    </tr>\n",
       "  </tbody>\n",
       "</table>\n",
       "</div>"
      ],
      "text/plain": [
       "         0    1    2    3    4    5\n",
       "Dmd      0  130  160  120  260  130\n",
       "Pl.Or    0   60   80    0  100    0\n",
       "Stock  370    0    0    0    0    0"
      ]
     },
     "execution_count": 120,
     "metadata": {},
     "output_type": "execute_result"
    }
   ],
   "source": [
    "horizon = 5\n",
    "on_hand = 370\n",
    "dmd = np.array([0, 130, 160, 120, 260, 130])\n",
    "plan = pd.DataFrame(columns=list(range(horizon+1)))\n",
    "plan.loc[0] = dmd\n",
    "plan.loc[1] = np.array([0, 60, 80, 0, 100, 0])\n",
    "stk = np.zeros(horizon+1)\n",
    "stk[0] = on_hand\n",
    "plan.loc[2] = stk\n",
    "plan.index = ['Dmd', 'Pl.Or', 'Stock']\n",
    "plan"
   ]
  },
  {
   "cell_type": "code",
   "execution_count": 121,
   "metadata": {},
   "outputs": [
    {
     "data": {
      "text/html": [
       "<div>\n",
       "<style scoped>\n",
       "    .dataframe tbody tr th:only-of-type {\n",
       "        vertical-align: middle;\n",
       "    }\n",
       "\n",
       "    .dataframe tbody tr th {\n",
       "        vertical-align: top;\n",
       "    }\n",
       "\n",
       "    .dataframe thead th {\n",
       "        text-align: right;\n",
       "    }\n",
       "</style>\n",
       "<table border=\"1\" class=\"dataframe\">\n",
       "  <thead>\n",
       "    <tr style=\"text-align: right;\">\n",
       "      <th></th>\n",
       "      <th>0</th>\n",
       "      <th>1</th>\n",
       "      <th>2</th>\n",
       "      <th>3</th>\n",
       "      <th>4</th>\n",
       "      <th>5</th>\n",
       "    </tr>\n",
       "  </thead>\n",
       "  <tbody>\n",
       "    <tr>\n",
       "      <th>Dmd</th>\n",
       "      <td>0</td>\n",
       "      <td>130</td>\n",
       "      <td>160</td>\n",
       "      <td>120</td>\n",
       "      <td>260</td>\n",
       "      <td>130</td>\n",
       "    </tr>\n",
       "    <tr>\n",
       "      <th>Pl.Or</th>\n",
       "      <td>0</td>\n",
       "      <td>60</td>\n",
       "      <td>80</td>\n",
       "      <td>0</td>\n",
       "      <td>100</td>\n",
       "      <td>0</td>\n",
       "    </tr>\n",
       "    <tr>\n",
       "      <th>Stock</th>\n",
       "      <td>370</td>\n",
       "      <td>300</td>\n",
       "      <td>220</td>\n",
       "      <td>100</td>\n",
       "      <td>-60</td>\n",
       "      <td>-190</td>\n",
       "    </tr>\n",
       "  </tbody>\n",
       "</table>\n",
       "</div>"
      ],
      "text/plain": [
       "         0    1    2    3    4    5\n",
       "Dmd      0  130  160  120  260  130\n",
       "Pl.Or    0   60   80    0  100    0\n",
       "Stock  370  300  220  100  -60 -190"
      ]
     },
     "execution_count": 121,
     "metadata": {},
     "output_type": "execute_result"
    }
   ],
   "source": [
    "for i in range(1, horizon+1):\n",
    "    plan.loc['Stock'][i] = plan.loc['Stock'][i-1] - plan.loc['Dmd'][i] + plan.loc['Pl.Or'][i]\n",
    "plan"
   ]
  },
  {
   "cell_type": "code",
   "execution_count": 110,
   "metadata": {},
   "outputs": [
    {
     "data": {
      "text/html": [
       "<div>\n",
       "<style scoped>\n",
       "    .dataframe tbody tr th:only-of-type {\n",
       "        vertical-align: middle;\n",
       "    }\n",
       "\n",
       "    .dataframe tbody tr th {\n",
       "        vertical-align: top;\n",
       "    }\n",
       "\n",
       "    .dataframe thead th {\n",
       "        text-align: right;\n",
       "    }\n",
       "</style>\n",
       "<table border=\"1\" class=\"dataframe\">\n",
       "  <thead>\n",
       "    <tr style=\"text-align: right;\">\n",
       "      <th></th>\n",
       "      <th>0</th>\n",
       "      <th>1</th>\n",
       "      <th>2</th>\n",
       "      <th>3</th>\n",
       "      <th>4</th>\n",
       "      <th>5</th>\n",
       "    </tr>\n",
       "  </thead>\n",
       "  <tbody>\n",
       "    <tr>\n",
       "      <th>Dmd</th>\n",
       "      <td>0</td>\n",
       "      <td>130</td>\n",
       "      <td>160</td>\n",
       "      <td>120</td>\n",
       "      <td>260</td>\n",
       "      <td>130</td>\n",
       "    </tr>\n",
       "    <tr>\n",
       "      <th>Pl.Or</th>\n",
       "      <td>370</td>\n",
       "      <td>60</td>\n",
       "      <td>80</td>\n",
       "      <td>0</td>\n",
       "      <td>100</td>\n",
       "      <td>0</td>\n",
       "    </tr>\n",
       "    <tr>\n",
       "      <th>Stock</th>\n",
       "      <td>370</td>\n",
       "      <td>300</td>\n",
       "      <td>220</td>\n",
       "      <td>100</td>\n",
       "      <td>-60</td>\n",
       "      <td>-190</td>\n",
       "    </tr>\n",
       "    <tr>\n",
       "      <th>AcStock</th>\n",
       "      <td>370</td>\n",
       "      <td>300</td>\n",
       "      <td>220</td>\n",
       "      <td>100</td>\n",
       "      <td>-60</td>\n",
       "      <td>-190</td>\n",
       "    </tr>\n",
       "  </tbody>\n",
       "</table>\n",
       "</div>"
      ],
      "text/plain": [
       "           0    1    2    3    4     5\n",
       "Dmd        0  130  160  120  260   130\n",
       "Pl.Or    370   60   80    0  100     0\n",
       "Stock    370  300  220  100  -60  -190\n",
       "AcStock  370  300  220  100  -60  -190"
      ]
     },
     "execution_count": 110,
     "metadata": {},
     "output_type": "execute_result"
    }
   ],
   "source": [
    "plan.loc['Pl.Or'][0] = on_hand \n",
    "acStkPo = np.cumsum(plan.loc['Pl.Or'])\n",
    "acDmd = np.cumsum(plan.loc['Dmd'])\n",
    "plan.loc['AcStock'] = acStkPo - acDmd \n",
    "plan"
   ]
  },
  {
   "cell_type": "code",
   "execution_count": 95,
   "metadata": {},
   "outputs": [
    {
     "data": {
      "text/plain": [
       "6.999980891570823"
      ]
     },
     "execution_count": 95,
     "metadata": {},
     "output_type": "execute_result"
    }
   ],
   "source": [
    "(plan.loc['Pl.Or']/(plan.loc['Pl.Or'] + 0.001)).sum()"
   ]
  },
  {
   "cell_type": "code",
   "execution_count": 96,
   "metadata": {},
   "outputs": [
    {
     "data": {
      "text/plain": [
       "2585"
      ]
     },
     "execution_count": 96,
     "metadata": {},
     "output_type": "execute_result"
    }
   ],
   "source": [
    "e = 0.001\n",
    "plan.loc['Pl.Or'].sum()"
   ]
  },
  {
   "cell_type": "markdown",
   "metadata": {},
   "source": [
    "$ s_c = [s_0 - h.d_1 - (h-1)d_2  - (h-2)d_3  - (h-3)d_4  - (h-4)d_5 + h.p_1 + (h-1)p_2  + (h-2)p_3  + (h-3)p_4  + (h-4)p_5] . s_{uc} = s_{uc}. [s_0 - \\sum_{i=0}^h (h-i) d_{i+1} + \\sum_{i=0}^h (h-i) p_{i+1} ]$"
   ]
  },
  {
   "cell_type": "markdown",
   "metadata": {},
   "source": [
    "$ f_c = [p_1/(p_1 + e) + p_2)/(p_2) + e))  + p_3/(p_3 + e) + p_4/(p_4 + e)  + p_5/(p_5 + e)] . f_{uc} = f_{uc}.\\sum_{i=0}^h p_i/(p_i + e) $"
   ]
  },
  {
   "cell_type": "markdown",
   "metadata": {},
   "source": [
    " $ v_c = [h.p_1 + (h-1)p_2  + (h-2)p_3  + (h-3)p_4  + (h-4)p_5] . v_{uc} = v_{uc}.\\sum_{i=0}^h (h-i) p_{i+1}$"
   ]
  },
  {
   "cell_type": "markdown",
   "metadata": {},
   "source": [
    "$ s_c + f_c + v_c$"
   ]
  },
  {
   "cell_type": "markdown",
   "metadata": {},
   "source": [
    "$ p_o - 𝑑_1 + p_1 \\ge 0 $  \n",
    "$ p_o - 𝑑_1 - d_2 + p_1 + p_2 \\ge 0 $  \n",
    "$ s_o - 𝑑_1 - d_2 - d_3 + p_1 + p_2 + p_3 \\ge 0 $  \n",
    "$ s_o - 𝑑_1 - d_2 - d_3 - d_4 + p_1 + p_2 + p_3 + p_4 \\ge 0 $  \n",
    "$ s_o - 𝑑_1 - d_2 - d_3 - d_4 - d_5 + p_1 + p_2 + p_3 + p_4 + p_5 \\ge 0 $  "
   ]
  },
  {
   "cell_type": "code",
   "execution_count": 126,
   "metadata": {},
   "outputs": [],
   "source": [
    "h=20\n",
    "so=370\n",
    "suc = 0.8\n",
    "fuc = 0.3\n",
    "vuc = 0.02\n",
    "d = acDmd\n",
    "p = acStkPo\n",
    "\n",
    "c = [h*suc, (h-1)*suc, (h-2)*suc, (h-3)*suc, (h-4)*suc, h*vuc, (h-1)*vuc, (h-2)*vuc, (h-3)*vuc, (h-4)*vuc]\n",
    "\n",
    "In1 = p[0] - d[1] + p[1] >= 0\n",
    "In2 = p[0] - 𝑑[1] - d[2] + p[1] + p[2] >= 0     \n",
    "In3 = p[0] - 𝑑[1] - d[2] - d[3] + p[1] + p[2] + p[3] >= 0     \n",
    "In4 = p[0] - 𝑑[1] - d[2] - d[3] - d[4] + p[1] + p[2] + p[3] + p[4] >= 0  \n",
    "In5 = p[0] - 𝑑[1] - d[2] - d[3] - d[4] - d[5] + p[1] + p[2] + p[3] + p[4]+ p[5] >= 0  \n",
    "\n",
    "bounds = [(0, float(\"inf\")),  (0, float(\"inf\")), ,  (0, float(\"inf\")), ,  (0, float(\"inf\")), ,  (0, float(\"inf\"))] "
   ]
  },
  {
   "cell_type": "code",
   "execution_count": null,
   "metadata": {},
   "outputs": [],
   "source": []
  }
 ],
 "metadata": {
  "kernelspec": {
   "display_name": "Python 3.8.1 64-bit",
   "language": "python",
   "name": "python38164bitc33de82c9da04edea88eb124459bf44a"
  },
  "language_info": {
   "codemirror_mode": {
    "name": "ipython",
    "version": 3
   },
   "file_extension": ".py",
   "mimetype": "text/x-python",
   "name": "python",
   "nbconvert_exporter": "python",
   "pygments_lexer": "ipython3",
   "version": "3.8.6"
  }
 },
 "nbformat": 4,
 "nbformat_minor": 4
}
